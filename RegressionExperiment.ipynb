{
 "cells": [
  {
   "cell_type": "code",
   "execution_count": 1,
   "metadata": {},
   "outputs": [
    {
     "name": "stdout",
     "output_type": "stream",
     "text": [
      "________________________________________________________________________________\n",
      "[Memory] Calling __main__-C%3A-Users-qqcno-__ipython-input__.get_data...\n",
      "get_data()\n",
      "_________________________________________________________get_data - 0.0s, 0.0min\n"
     ]
    },
    {
     "data": {
      "image/png": "[encoded data removed]",
      "text/plain": [
       "<matplotlib.figure.Figure at 0x28641e2f128>"
      ]
     },
     "metadata": {},
     "output_type": "display_data"
    }
   ],
   "source": [
    "import matplotlib.pyplot as plt\n",
    "import numpy as np\n",
    "from sklearn.datasets import load_svmlight_file\n",
    "from sklearn.externals.joblib import Memory\n",
    "from sklearn.model_selection import train_test_split\n",
    "\n",
    "mem = Memory(\"./mycache\")\n",
    "#get dataset\n",
    "@mem.cache\n",
    "def get_data():\n",
    "    data = load_svmlight_file(\"D:\\Task\\MachineLearning\\Test\\LR\\LR__Housing\\data\\housing_scale\")\n",
    "    return data[0], data[1]\n",
    "\n",
    "\n",
    "#divide the dataset into training set and validation set, the random state is 20\n",
    "def spilt_data(X, y):\n",
    "    x_train, x_test, y_train, y_test = train_test_split(X, y, test_size=0.30, random_state=20)\n",
    "    return x_train, x_test, y_train, y_test\n",
    "\n",
    "\n",
    "#compute cost function\n",
    "def computeCost(x, y, theta):\n",
    "    loss =  (1 / (2 * x.shape[0])) * ((np.dot(x, theta) - y).transpose()*(np.dot(x, theta) - y))\n",
    "    return np.sum(loss)\n",
    "\n",
    "X, y = get_data()\n",
    "X_train, x_test, y_train, y_test = spilt_data(X, y)\n",
    "\n",
    "X_train =  X_train.todense()\n",
    "x_test = x_test.todense()\n",
    "y_train = y_train.reshape(y_train.shape[0], 1)\n",
    "y_test = y_test.reshape(y_test.shape[0], 1)\n",
    "\n",
    "#initialize the parameters\n",
    "theta_array = np.zeros((X_train.shape[1], 1))\n",
    "\n",
    "#set the learning rate and iterate number\n",
    "leraning_rate = 0.01\n",
    "iterate_number = 200\n",
    "\n",
    "loss_train = []\n",
    "loss_valid = []\n",
    "\n",
    "\n",
    "for i in range(iterate_number):\n",
    "    gradient = (1 / (X_train.shape[0])) * (X_train.transpose() * (X_train * theta_array - y_train))\n",
    "    #print(gradient)\n",
    "    theta_array = theta_array - leraning_rate * gradient\n",
    "    loss_train.append(computeCost(X_train, y_train, theta_array))\n",
    "    loss_valid.append(computeCost(x_test, y_test, theta_array))\n",
    "\n",
    "#print(\"loss_train\", loss_train)\n",
    "#print(\"loss_valid\", loss_valid)\n",
    "\n",
    "#ploting the loss value\n",
    "plt.plot(loss_train, color=\"r\", label=\"Loss_train\")\n",
    "plt.plot(loss_valid, color=\"g\",label=\"Loss_valid\")\n",
    "plt.xlabel(\"Iteration\")\n",
    "plt.ylabel(\"Loss\")\n",
    "plt.title(\"Linear Regression---Housing\")\n",
    "plt.legend()\n",
    "plt.show()\n"
   ]
  },
  {
   "cell_type": "code",
   "execution_count": null,
   "metadata": {
    "collapsed": true
   },
   "outputs": [],
   "source": []
  }
 ],
 "metadata": {
  "kernelspec": {
   "display_name": "Python 3",
   "language": "python",
   "name": "python3"
  },
  "language_info": {
   "codemirror_mode": {
    "name": "ipython",
    "version": 3
   },
   "file_extension": ".py",
   "mimetype": "text/x-python",
   "name": "python",
   "nbconvert_exporter": "python",
   "pygments_lexer": "ipython3",
   "version": "3.6.3"
  }
 },
 "nbformat": 4,
 "nbformat_minor": 2
}
