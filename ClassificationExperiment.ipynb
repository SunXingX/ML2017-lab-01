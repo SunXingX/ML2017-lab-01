{
 "cells": [
  {
   "cell_type": "code",
   "execution_count": 1,
   "metadata": {},
   "outputs": [
    {
     "data": {
      "image/png": "[encoded data removed]",
      "text/plain": [
       "<matplotlib.figure.Figure at 0x2839c884b70>"
      ]
     },
     "metadata": {},
     "output_type": "display_data"
    }
   ],
   "source": [
    "import matplotlib.pyplot as plt\n",
    "import numpy as np\n",
    "from sklearn.datasets import load_svmlight_file\n",
    "from sklearn.model_selection import train_test_split\n",
    "\n",
    "\n",
    "def get_data(file):\n",
    "    data = load_svmlight_file(file)\n",
    "    return data[0], data[1]\n",
    "\n",
    "def compute_loss(X, W, y, C = 1):\n",
    "    L2 =  0.5 * np.dot(W.T, W)\n",
    "    prediction_y = np.dot(X, W)\n",
    "    #print(\"prediction_y\", prediction_y)\n",
    "    diff = np.ones(y.shape[0]) - y * prediction_y\n",
    "    diff[diff < 0] = 0\n",
    "    #print(\"diff\", diff)\n",
    "    hingeloss = C *(np.sum(diff)) / X.shape[0]\n",
    "    loss = hingeloss + L2\n",
    "    return loss\n",
    "\n",
    "def get_gradient(X, W, y, C = 1):\n",
    "    prediction_y = np.dot(X, W)\n",
    "    diff = np.ones(y.shape[0]) - y * prediction_y\n",
    "    #print(\"diff\", diff.shape)\n",
    "    #print(\"y\", y.shape)\n",
    "    y_copy = y.copy()\n",
    "    y_copy[diff <= 0] = 0\n",
    "    gradient = W - C * np.dot(y_copy, X) / X.shape[0]\n",
    "    #print(\"Gradient\", gradient)\n",
    "    return gradient\n",
    "\n",
    "X, y = get_data(\"D:/Task/MachineLearning/Test/LR/线性分类__australian/data/australian_scale\")\n",
    "\n",
    "X = X.toarray()\n",
    "#add anothre column for x\n",
    "column = np.ones((X.shape[0]))\n",
    "X = np.column_stack((X,column))\n",
    "X_train, x_valid, y_train, y_valid = train_test_split(X, y, test_size = 0.30, random_state = 42)\n",
    "\n",
    "#print(\"X_train\", X_train.shape)\n",
    "#print(\"y_train\", y_train.shape)\n",
    "\n",
    "W = np.random.normal(size=X_train.shape[1])\n",
    "\n",
    "#set the learning rate and iterate number\n",
    "leraning_rate = 0.01\n",
    "iterate_number = 1000\n",
    "\n",
    "loss_train = []\n",
    "loss_valid = []\n",
    "\n",
    "for i in range(iterate_number):\n",
    "    gradient = get_gradient(X_train, W, y_train)\n",
    "    #print(gradient)\n",
    "    W = W - leraning_rate * gradient\n",
    "    loss_train.append(compute_loss(X_train, W, y_train))\n",
    "    loss_valid.append(compute_loss(x_valid, W, y_valid))\n",
    "   \n",
    "#ploting the loss value\n",
    "plt.plot(loss_train, color=\"r\", label=\"Loss_train\")\n",
    "plt.plot(loss_valid, color=\"g\",label=\"Loss_valid\")\n",
    "plt.xlabel(\"Iteration\")\n",
    "plt.ylabel(\"Loss\")\n",
    "plt.title(\"Linear SVM---Australian\")\n",
    "plt.legend()\n",
    "plt.show()\n",
    "\n",
    "\n"
   ]
  },
  {
   "cell_type": "code",
   "execution_count": null,
   "metadata": {
    "collapsed": true
   },
   "outputs": [],
   "source": []
  }
 ],
 "metadata": {
  "kernelspec": {
   "display_name": "Python 3",
   "language": "python",
   "name": "python3"
  },
  "language_info": {
   "codemirror_mode": {
    "name": "ipython",
    "version": 3
   },
   "file_extension": ".py",
   "mimetype": "text/x-python",
   "name": "python",
   "nbconvert_exporter": "python",
   "pygments_lexer": "ipython3",
   "version": "3.6.3"
  }
 },
 "nbformat": 4,
 "nbformat_minor": 2
}
